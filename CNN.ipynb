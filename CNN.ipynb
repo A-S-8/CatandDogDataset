{
  "nbformat": 4,
  "nbformat_minor": 0,
  "metadata": {
    "colab": {
      "provenance": [],
      "gpuType": "T4",
      "authorship_tag": "ABX9TyMh2Bm7VkF2lTQ1qLEq+3BU"
    },
    "kernelspec": {
      "name": "python3",
      "display_name": "Python 3"
    },
    "language_info": {
      "name": "python"
    },
    "accelerator": "GPU"
  },
  "cells": [
    {
      "cell_type": "code",
      "execution_count": null,
      "metadata": {
        "id": "HLu8aDzF31zP"
      },
      "outputs": [],
      "source": [
        "!pip install kaggle\n"
      ]
    },
    {
      "cell_type": "code",
      "source": [
        "from google.colab import files\n",
        "files.upload() #json\n"
      ],
      "metadata": {
        "id": "pU7LREDS6ZfK"
      },
      "execution_count": null,
      "outputs": []
    },
    {
      "cell_type": "code",
      "source": [
        "!mkdir -p ~/.kaggle\n",
        "!mv kaggle.json ~/.kaggle/\n",
        "!chmod 600 ~/.kaggle/kaggle.json\n"
      ],
      "metadata": {
        "id": "qgV_ttaU6_mQ"
      },
      "execution_count": 3,
      "outputs": []
    },
    {
      "cell_type": "code",
      "source": [
        "!kaggle datasets download -d chetankv/dogs-cats-images\n"
      ],
      "metadata": {
        "colab": {
          "base_uri": "https://localhost:8080/"
        },
        "id": "SGa9_8Ga61ib",
        "outputId": "64811469-5fd4-4e79-d440-bb3bf3e3d4e3"
      },
      "execution_count": 4,
      "outputs": [
        {
          "output_type": "stream",
          "name": "stdout",
          "text": [
            "Downloading dogs-cats-images.zip to /content\n",
            " 98% 425M/435M [00:06<00:00, 48.0MB/s]\n",
            "100% 435M/435M [00:06<00:00, 75.4MB/s]\n"
          ]
        }
      ]
    },
    {
      "cell_type": "code",
      "source": [
        "!unzip -q dogs-cats-images.zip\n"
      ],
      "metadata": {
        "id": "mPZfFFKs9ykI"
      },
      "execution_count": 5,
      "outputs": []
    },
    {
      "cell_type": "code",
      "source": [
        "\n",
        "import os\n",
        "\n",
        "file_list = os.listdir()\n",
        "print(file_list)\n"
      ],
      "metadata": {
        "colab": {
          "base_uri": "https://localhost:8080/"
        },
        "id": "W3e4bhkp93-m",
        "outputId": "8c796dd4-e7d4-463e-da93-b6806332aa1f"
      },
      "execution_count": 6,
      "outputs": [
        {
          "output_type": "stream",
          "name": "stdout",
          "text": [
            "['.config', 'dog vs cat', 'dataset', 'dogs-cats-images.zip', 'sample_data']\n"
          ]
        }
      ]
    },
    {
      "cell_type": "code",
      "source": [
        "import tensorflow as tf\n",
        "from tensorflow.keras import layers, models\n",
        "from tensorflow.keras.preprocessing.image import ImageDataGenerator\n",
        "\n",
        "input_size = (150, 150)\n",
        "batch_size = 32\n",
        "\n",
        "\n",
        "train_datagen = ImageDataGenerator(\n",
        "    rescale=1.0/255,\n",
        "    rotation_range=40,\n",
        "    width_shift_range=0.2,\n",
        "    height_shift_range=0.2,\n",
        "    shear_range=0.2,\n",
        "    zoom_range=0.2,\n",
        "    horizontal_flip=True,\n",
        "    fill_mode='nearest'\n",
        ")\n",
        "\n",
        "train_generator = train_datagen.flow_from_directory(\n",
        "    '/content/dog vs cat/dataset/training_set',\n",
        "    target_size=input_size,\n",
        "    batch_size=batch_size,\n",
        "    class_mode='binary'\n",
        ")\n",
        "\n",
        "\n",
        "model = models.Sequential()\n",
        "model.add(layers.Conv2D(32, (3, 3), activation='relu', input_shape=(150, 150, 3)))\n",
        "model.add(layers.MaxPooling2D((2, 2)))\n",
        "model.add(layers.Conv2D(64, (3, 3), activation='relu'))\n",
        "model.add(layers.MaxPooling2D((2, 2)))\n",
        "model.add(layers.Conv2D(128, (3, 3), activation='relu'))\n",
        "model.add(layers.MaxPooling2D((2, 2)))\n",
        "model.add(layers.Conv2D(128, (3, 3), activation='relu'))\n",
        "model.add(layers.MaxPooling2D((2, 2)))\n",
        "model.add(layers.Flatten())\n",
        "model.add(layers.Dropout(0.5))\n",
        "model.add(layers.Dense(512, activation='relu'))\n",
        "model.add(layers.Dense(1, activation='sigmoid'))\n",
        "\n",
        "\n",
        "model.compile(loss='binary_crossentropy',\n",
        "              optimizer='adam',\n",
        "              metrics=['accuracy'])\n",
        "\n",
        "\n",
        "model.fit(\n",
        "    train_generator,\n",
        "    steps_per_epoch=train_generator.samples // batch_size,\n",
        "    epochs=10\n",
        ")\n",
        "\n",
        "\n",
        "model.save('cats_dogs_cnn_fnn_model.h5')\n"
      ],
      "metadata": {
        "colab": {
          "base_uri": "https://localhost:8080/"
        },
        "id": "lu22_Z0w7jBh",
        "outputId": "ff3e4aad-9cf5-4fdc-e34e-19fb8c85c25e"
      },
      "execution_count": 8,
      "outputs": [
        {
          "output_type": "stream",
          "name": "stdout",
          "text": [
            "Found 8000 images belonging to 2 classes.\n",
            "Epoch 1/10\n",
            "250/250 [==============================] - 68s 218ms/step - loss: 0.6901 - accuracy: 0.5270\n",
            "Epoch 2/10\n",
            "250/250 [==============================] - 55s 220ms/step - loss: 0.6831 - accuracy: 0.5443\n",
            "Epoch 3/10\n",
            "250/250 [==============================] - 56s 224ms/step - loss: 0.6733 - accuracy: 0.5769\n",
            "Epoch 4/10\n",
            "250/250 [==============================] - 56s 225ms/step - loss: 0.6491 - accuracy: 0.6274\n",
            "Epoch 5/10\n",
            "250/250 [==============================] - 54s 218ms/step - loss: 0.6380 - accuracy: 0.6385\n",
            "Epoch 6/10\n",
            "250/250 [==============================] - 53s 214ms/step - loss: 0.6189 - accuracy: 0.6568\n",
            "Epoch 7/10\n",
            "250/250 [==============================] - 53s 214ms/step - loss: 0.6075 - accuracy: 0.6709\n",
            "Epoch 8/10\n",
            "250/250 [==============================] - 53s 213ms/step - loss: 0.5919 - accuracy: 0.6866\n",
            "Epoch 9/10\n",
            "250/250 [==============================] - 53s 213ms/step - loss: 0.5887 - accuracy: 0.6881\n",
            "Epoch 10/10\n",
            "250/250 [==============================] - 53s 213ms/step - loss: 0.5613 - accuracy: 0.7088\n"
          ]
        },
        {
          "output_type": "stream",
          "name": "stderr",
          "text": [
            "/usr/local/lib/python3.10/dist-packages/keras/src/engine/training.py:3079: UserWarning: You are saving your model as an HDF5 file via `model.save()`. This file format is considered legacy. We recommend using instead the native Keras format, e.g. `model.save('my_model.keras')`.\n",
            "  saving_api.save_model(\n"
          ]
        }
      ]
    },
    {
      "cell_type": "code",
      "source": [
        "from tensorflow.keras.preprocessing.image import ImageDataGenerator\n",
        "\n",
        "input_size = (150, 150)\n",
        "batch_size = 32\n",
        "\n",
        "test_datagen = ImageDataGenerator(rescale=1.0/255)\n",
        "\n",
        "test_generator = test_datagen.flow_from_directory(\n",
        "    '/content/dog vs cat/dataset/test_set',\n",
        "    target_size=input_size,\n",
        "    batch_size=batch_size,\n",
        "    class_mode='binary'\n",
        ")\n"
      ],
      "metadata": {
        "colab": {
          "base_uri": "https://localhost:8080/"
        },
        "id": "OzYK8EeR_yqv",
        "outputId": "c383e00d-7c1c-45da-da7b-44c1a964da4d"
      },
      "execution_count": 9,
      "outputs": [
        {
          "output_type": "stream",
          "name": "stdout",
          "text": [
            "Found 2000 images belonging to 2 classes.\n"
          ]
        }
      ]
    },
    {
      "cell_type": "code",
      "source": [
        "from tensorflow.keras.models import load_model\n",
        "\n",
        "model = load_model('cats_dogs_cnn_fnn_model.h5')\n",
        "test_loss, test_accuracy = model.evaluate(test_generator)\n",
        "print(f'Test accuracy: {test_accuracy * 100:.2f}%')\n",
        "\n"
      ],
      "metadata": {
        "colab": {
          "base_uri": "https://localhost:8080/"
        },
        "id": "pl2x6UBnAtU-",
        "outputId": "388a92ab-46de-4c7a-ebc7-7972eeb96991"
      },
      "execution_count": 10,
      "outputs": [
        {
          "output_type": "stream",
          "name": "stdout",
          "text": [
            "63/63 [==============================] - 4s 54ms/step - loss: 0.5130 - accuracy: 0.7505\n",
            "Test accuracy: 75.05%\n"
          ]
        }
      ]
    }
  ]
}